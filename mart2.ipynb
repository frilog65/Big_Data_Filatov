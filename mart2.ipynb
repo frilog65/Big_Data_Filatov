{
 "cells": [
  {
   "cell_type": "markdown",
   "id": "df5729a6-971f-4436-9728-37f798792fc7",
   "metadata": {},
   "source": [
    "## **Гипотеза №2**\n",
    "### $H_{0}$ : Между преступностью района и возрастом его зданий нет связи\n",
    "### $H_{1}$ : Между преступностью района и возрастом его зданий есть связь\n",
    "### Уровень статистической значимости = 0.05"
   ]
  },
  {
   "cell_type": "markdown",
   "id": "303be887-18fe-4e25-8eba-25ca6ea22972",
   "metadata": {},
   "source": [
    "## **Импорт библиотек**"
   ]
  },
  {
   "cell_type": "code",
   "execution_count": 1,
   "id": "d437cba6-c08e-4ca0-be94-abfc228e181f",
   "metadata": {
    "tags": []
   },
   "outputs": [],
   "source": [
    "import pandas as pd #библиотека для обработки и анализа данных в виде таблиц\n",
    "import numpy as np #библиотека, добавляющая поддержку больших многомерных массивов и матриц, вместе с большой библиотекой высокоуровневых математических функций для операций с этими массивами\n",
    "\n",
    "#scikit-learn — это библиотека, предназначенная для машинного обучения\n",
    "from sklearn.linear_model import LinearRegression #линейная регрессия\n",
    "from sklearn import preprocessing #предоставляет функции для преобразования данных в более подходящий вид для последующих оценок\n",
    "\n",
    "import statsmodels.api as sm #позволяет исследовать данные, оценивать статистические модели и выполнять статистические тесты\n",
    "import scipy.stats as stats\n",
    "import seaborn as sns #эта библиотека предназначена для создания статистических графиков\n",
    "\n",
    "from pyhive import hive"
   ]
  },
  {
   "cell_type": "markdown",
   "id": "350f7fc6-289f-4de9-87f2-e6548ff17763",
   "metadata": {},
   "source": [
    "## **Подключение к базе данных и импорт данных**"
   ]
  },
  {
   "cell_type": "code",
   "execution_count": 11,
   "id": "7cd802ce-94ad-4b6f-a97d-5b7ca9bdab58",
   "metadata": {
    "tags": []
   },
   "outputs": [
    {
     "name": "stderr",
     "output_type": "stream",
     "text": [
      "/tmp/ipykernel_41877/2214197992.py:5: UserWarning: pandas only supports SQLAlchemy connectable (engine/connection) or database string URI or sqlite3 DBAPI2 connection. Other DBAPI2 objects are not tested. Please consider using SQLAlchemy.\n",
      "  mart2 = pd.read_sql(query, conn)\n"
     ]
    }
   ],
   "source": [
    "#mart2 = pd.read_csv('mart2.csv')\n",
    "conn = hive.Connection(host='localhost', port=10000, database='project')\n",
    "cursor = conn.cursor()\n",
    "query = \"SELECT * FROM mart_2\"\n",
    "mart2 = pd.read_sql(query, conn)\n",
    "conn.close()"
   ]
  },
  {
   "cell_type": "code",
   "execution_count": 4,
   "id": "e632b902-f9fa-402d-bcd4-62ffe5a77e66",
   "metadata": {
    "tags": []
   },
   "outputs": [
    {
     "data": {
      "text/html": [
       "<div>\n",
       "<style scoped>\n",
       "    .dataframe tbody tr th:only-of-type {\n",
       "        vertical-align: middle;\n",
       "    }\n",
       "\n",
       "    .dataframe tbody tr th {\n",
       "        vertical-align: top;\n",
       "    }\n",
       "\n",
       "    .dataframe thead th {\n",
       "        text-align: right;\n",
       "    }\n",
       "</style>\n",
       "<table border=\"1\" class=\"dataframe\">\n",
       "  <thead>\n",
       "    <tr style=\"text-align: right;\">\n",
       "      <th></th>\n",
       "      <th>mart_2.id</th>\n",
       "      <th>mart_2.price</th>\n",
       "      <th>mart_2.address</th>\n",
       "      <th>mart_2.district</th>\n",
       "      <th>mart_2.rooms</th>\n",
       "      <th>mart_2.current_floor</th>\n",
       "      <th>mart_2.max_floor</th>\n",
       "      <th>mart_2.build_year</th>\n",
       "      <th>mart_2.bath</th>\n",
       "      <th>mart_2.repair</th>\n",
       "      <th>mart_2.window_type</th>\n",
       "      <th>mart_2.total</th>\n",
       "      <th>mart_2.street</th>\n",
       "      <th>mart_2.kills</th>\n",
       "      <th>mart_2.harm</th>\n",
       "      <th>mart_2.theft</th>\n",
       "      <th>mart_2.robbery</th>\n",
       "      <th>mart_2.brigandage</th>\n",
       "      <th>mart_2.cameras</th>\n",
       "    </tr>\n",
       "  </thead>\n",
       "  <tbody>\n",
       "    <tr>\n",
       "      <th>0</th>\n",
       "      <td>2</td>\n",
       "      <td>6000000.0</td>\n",
       "      <td>Москва ЗАО р-н Очаково-Матвеевское Аминьевское...</td>\n",
       "      <td>Очаково-Матвеевское</td>\n",
       "      <td>1.0</td>\n",
       "      <td>6.0</td>\n",
       "      <td>16.0</td>\n",
       "      <td>1976.0</td>\n",
       "      <td>1 раздельный</td>\n",
       "      <td>Косметический</td>\n",
       "      <td>Во двор</td>\n",
       "      <td>917.0</td>\n",
       "      <td>240.0</td>\n",
       "      <td>NaN</td>\n",
       "      <td>9.0</td>\n",
       "      <td>NaN</td>\n",
       "      <td>NaN</td>\n",
       "      <td>NaN</td>\n",
       "      <td>896</td>\n",
       "    </tr>\n",
       "    <tr>\n",
       "      <th>1</th>\n",
       "      <td>4</td>\n",
       "      <td>5450000.0</td>\n",
       "      <td>Москва ЮЗАО р-н Ясенево Голубинская ул. 7К5</td>\n",
       "      <td>Ясенево</td>\n",
       "      <td>NaN</td>\n",
       "      <td>1.0</td>\n",
       "      <td>9.0</td>\n",
       "      <td>1976.0</td>\n",
       "      <td>1 совмещенный</td>\n",
       "      <td>Евроремонт</td>\n",
       "      <td>На улицу и двор</td>\n",
       "      <td>798.0</td>\n",
       "      <td>NaN</td>\n",
       "      <td>1.0</td>\n",
       "      <td>NaN</td>\n",
       "      <td>NaN</td>\n",
       "      <td>21.0</td>\n",
       "      <td>NaN</td>\n",
       "      <td>733</td>\n",
       "    </tr>\n",
       "    <tr>\n",
       "      <th>2</th>\n",
       "      <td>5</td>\n",
       "      <td>5340000.0</td>\n",
       "      <td>Москва ЮЗАО р-н Коньково Профсоюзная ул. 73</td>\n",
       "      <td>Коньково</td>\n",
       "      <td>1.0</td>\n",
       "      <td>5.0</td>\n",
       "      <td>15.0</td>\n",
       "      <td>1973.0</td>\n",
       "      <td>1 раздельный</td>\n",
       "      <td>Без ремонта</td>\n",
       "      <td></td>\n",
       "      <td>923.0</td>\n",
       "      <td>225.0</td>\n",
       "      <td>1.0</td>\n",
       "      <td>4.0</td>\n",
       "      <td>457.0</td>\n",
       "      <td>12.0</td>\n",
       "      <td>4.0</td>\n",
       "      <td>883</td>\n",
       "    </tr>\n",
       "    <tr>\n",
       "      <th>3</th>\n",
       "      <td>6</td>\n",
       "      <td>6230000.0</td>\n",
       "      <td>Москва ВАО р-н Богородское Ивантеевская ул. 9А</td>\n",
       "      <td>Богородское</td>\n",
       "      <td>NaN</td>\n",
       "      <td>2.0</td>\n",
       "      <td>5.0</td>\n",
       "      <td>1955.0</td>\n",
       "      <td>1 совмещенный</td>\n",
       "      <td>Дизайнерский</td>\n",
       "      <td></td>\n",
       "      <td>876.0</td>\n",
       "      <td>211.0</td>\n",
       "      <td>3.0</td>\n",
       "      <td>NaN</td>\n",
       "      <td>429.0</td>\n",
       "      <td>15.0</td>\n",
       "      <td>NaN</td>\n",
       "      <td>1353</td>\n",
       "    </tr>\n",
       "    <tr>\n",
       "      <th>4</th>\n",
       "      <td>7</td>\n",
       "      <td>6960000.0</td>\n",
       "      <td>Москва ВАО р-н Богородское Ивантеевская ул. 9А</td>\n",
       "      <td>Богородское</td>\n",
       "      <td>NaN</td>\n",
       "      <td>2.0</td>\n",
       "      <td>5.0</td>\n",
       "      <td>1955.0</td>\n",
       "      <td>1 совмещенный</td>\n",
       "      <td>Дизайнерский</td>\n",
       "      <td></td>\n",
       "      <td>876.0</td>\n",
       "      <td>211.0</td>\n",
       "      <td>3.0</td>\n",
       "      <td>NaN</td>\n",
       "      <td>429.0</td>\n",
       "      <td>15.0</td>\n",
       "      <td>NaN</td>\n",
       "      <td>1353</td>\n",
       "    </tr>\n",
       "  </tbody>\n",
       "</table>\n",
       "</div>"
      ],
      "text/plain": [
       "   mart_2.id  mart_2.price                                     mart_2.address  \\\n",
       "0          2     6000000.0  Москва ЗАО р-н Очаково-Матвеевское Аминьевское...   \n",
       "1          4     5450000.0        Москва ЮЗАО р-н Ясенево Голубинская ул. 7К5   \n",
       "2          5     5340000.0        Москва ЮЗАО р-н Коньково Профсоюзная ул. 73   \n",
       "3          6     6230000.0     Москва ВАО р-н Богородское Ивантеевская ул. 9А   \n",
       "4          7     6960000.0     Москва ВАО р-н Богородское Ивантеевская ул. 9А   \n",
       "\n",
       "       mart_2.district  mart_2.rooms  mart_2.current_floor  mart_2.max_floor  \\\n",
       "0  Очаково-Матвеевское           1.0                   6.0              16.0   \n",
       "1              Ясенево           NaN                   1.0               9.0   \n",
       "2             Коньково           1.0                   5.0              15.0   \n",
       "3          Богородское           NaN                   2.0               5.0   \n",
       "4          Богородское           NaN                   2.0               5.0   \n",
       "\n",
       "   mart_2.build_year    mart_2.bath  mart_2.repair mart_2.window_type  \\\n",
       "0             1976.0   1 раздельный  Косметический            Во двор   \n",
       "1             1976.0  1 совмещенный     Евроремонт    На улицу и двор   \n",
       "2             1973.0   1 раздельный    Без ремонта                      \n",
       "3             1955.0  1 совмещенный   Дизайнерский                      \n",
       "4             1955.0  1 совмещенный   Дизайнерский                      \n",
       "\n",
       "   mart_2.total  mart_2.street  mart_2.kills  mart_2.harm  mart_2.theft  \\\n",
       "0         917.0          240.0           NaN          9.0           NaN   \n",
       "1         798.0            NaN           1.0          NaN           NaN   \n",
       "2         923.0          225.0           1.0          4.0         457.0   \n",
       "3         876.0          211.0           3.0          NaN         429.0   \n",
       "4         876.0          211.0           3.0          NaN         429.0   \n",
       "\n",
       "   mart_2.robbery  mart_2.brigandage  mart_2.cameras  \n",
       "0             NaN                NaN             896  \n",
       "1            21.0                NaN             733  \n",
       "2            12.0                4.0             883  \n",
       "3            15.0                NaN            1353  \n",
       "4            15.0                NaN            1353  "
      ]
     },
     "execution_count": 4,
     "metadata": {},
     "output_type": "execute_result"
    }
   ],
   "source": [
    "mart2.head()"
   ]
  },
  {
   "cell_type": "markdown",
   "id": "d5cb8e04-f5d8-4dcb-9495-3520d414bdf5",
   "metadata": {},
   "source": [
    "## **Очищение и преобразование данных**"
   ]
  },
  {
   "cell_type": "markdown",
   "id": "89a191e1-d144-43a6-8a82-755b51d4b73e",
   "metadata": {},
   "source": [
    "**Выброс** — это наблюдение, которое лежит аномально далеко от других значений в наборе данных. Выбросы могут быть проблематичными, поскольку они могут повлиять на результаты анализа.\n",
    "Для удаления выбросов будем использовать межквартильный диапазон.\n",
    "\n",
    "**Межквартильный размах (IQR)** — это разница между 75-м процентилем (Q3) и 25-м процентилем (Q1) в наборе данных. Он измеряет разброс средних 50% значений.\n",
    "Можно определить наблюдение как выброс, если оно в 1,5 раза превышает межквартильный размах, превышающий третий квартиль (Q3), или в 1,5 раза превышает межквартильный размах, меньше первого квартиля (Q1).\n",
    "Выбросы = наблюдения > Q3 + 1,5*IQR или Q1 – 1,5*IQR"
   ]
  },
  {
   "cell_type": "code",
   "execution_count": 5,
   "id": "438f1009-a9c0-4614-8533-3e763823cb7b",
   "metadata": {
    "tags": []
   },
   "outputs": [],
   "source": [
    "mart2.dropna(subset=['mart_2.price'], inplace=True)\n",
    "q3, q1 = np.percentile(mart2['mart_2.price'], [75, 25]) #получаем 75-й и 25-й процентили колонки price\n",
    "IQR = q3 - q1 #рассчитываем межквартильный размах\n",
    "upper_bound = q3 + 1.5 * IQR #получаем высшую границу\n",
    "lower_bound = q1 - 1.5 * IQR #получаем низшую границу\n",
    "\n",
    "mart2 = mart2[(mart2['mart_2.price'] < upper_bound) & (mart2['mart_2.price'] > lower_bound)] #выбираем только те записи, у которых цена находится в пределах границ"
   ]
  },
  {
   "cell_type": "code",
   "execution_count": 6,
   "id": "23160ba3-9038-4a0d-8b68-fbbb85dff609",
   "metadata": {
    "tags": []
   },
   "outputs": [],
   "source": [
    "#линейная регрессия не может работать со строками, их нужно заменить на числовые значения\n",
    "le = preprocessing.LabelEncoder() #(Кодирование меток) - метод, который присваивает каждому уникальному значению категориального признака уникальное целочисленное значение\n",
    "le.fit(mart2['mart_2.district'])\n",
    "mart2['district_num'] = le.transform(mart2['mart_2.district']) #создание нового столбца с замененными строковыми данными на целочисленные"
   ]
  },
  {
   "cell_type": "markdown",
   "id": "a2865325-03cb-4717-b7e0-3eca205d9f9f",
   "metadata": {},
   "source": [
    "Выбираем нужные столбцы и удаляем записи с пропущенными значениями"
   ]
  },
  {
   "cell_type": "code",
   "execution_count": 7,
   "id": "8c7edf52-097a-4be7-90e7-e2774ca07495",
   "metadata": {
    "tags": []
   },
   "outputs": [],
   "source": [
    "model_data = mart2.loc[:, ['mart_2.price', 'district_num', 'mart_2.rooms', 'mart_2.current_floor', 'mart_2.build_year', 'mart_2.total']].dropna()"
   ]
  },
  {
   "cell_type": "markdown",
   "id": "5fdc40e6-3f2a-41ae-8bd2-51accb2a485d",
   "metadata": {},
   "source": [
    "## **Регрессионный анализ**"
   ]
  },
  {
   "cell_type": "markdown",
   "id": "7affd6df-4e1b-4c52-9627-96ba9515a7bb",
   "metadata": {},
   "source": [
    "Проверяем данные на мультиколлинеарность, так как для линейной регрессии атрибуты не должны иметь связи"
   ]
  },
  {
   "cell_type": "code",
   "execution_count": 8,
   "id": "88ebc438-aa4f-4089-a36d-c84116a7b310",
   "metadata": {
    "tags": []
   },
   "outputs": [
    {
     "data": {
      "text/plain": [
       "<Axes: >"
      ]
     },
     "execution_count": 8,
     "metadata": {},
     "output_type": "execute_result"
    },
    {
     "data": {
      "image/png": "[encoded data removed]",
      "text/plain": [
       "<Figure size 640x480 with 2 Axes>"
      ]
     },
     "metadata": {},
     "output_type": "display_data"
    }
   ],
   "source": [
    "sns.heatmap(model_data.corr(), annot=True, cmap='coolwarm')"
   ]
  },
  {
   "cell_type": "code",
   "execution_count": 9,
   "id": "9d2d8e2d-c827-4b94-bcc0-2a55eba4af13",
   "metadata": {
    "tags": []
   },
   "outputs": [],
   "source": [
    "X = model_data.loc[:, ['mart_2.price', 'district_num', 'mart_2.rooms', 'mart_2.current_floor', 'mart_2.build_year']] #В качестве X выбираем независимые переменные\n",
    "Y = model_data['mart_2.total'] #В качестве Y выбираем зависимую переменную, в нашем случае, цену"
   ]
  },
  {
   "cell_type": "markdown",
   "id": "bfe5f80c-9ba8-429a-b282-10f1b72c7ff6",
   "metadata": {},
   "source": [
    "Проводим регрессионный анализ"
   ]
  },
  {
   "cell_type": "code",
   "execution_count": 10,
   "id": "14aa3070-f903-4613-b796-852c61692f4e",
   "metadata": {
    "tags": []
   },
   "outputs": [
    {
     "data": {
      "text/html": [
       "<table class=\"simpletable\">\n",
       "<caption>OLS Regression Results</caption>\n",
       "<tr>\n",
       "  <th>Dep. Variable:</th>      <td>mart_2.total</td>   <th>  R-squared:         </th>  <td>   0.246</td>  \n",
       "</tr>\n",
       "<tr>\n",
       "  <th>Model:</th>                   <td>OLS</td>       <th>  Adj. R-squared:    </th>  <td>   0.246</td>  \n",
       "</tr>\n",
       "<tr>\n",
       "  <th>Method:</th>             <td>Least Squares</td>  <th>  F-statistic:       </th>  <td>   1265.</td>  \n",
       "</tr>\n",
       "<tr>\n",
       "  <th>Date:</th>             <td>Thu, 20 Apr 2023</td> <th>  Prob (F-statistic):</th>   <td>  0.00</td>   \n",
       "</tr>\n",
       "<tr>\n",
       "  <th>Time:</th>                 <td>12:53:56</td>     <th>  Log-Likelihood:    </th> <td>-1.4726e+05</td>\n",
       "</tr>\n",
       "<tr>\n",
       "  <th>No. Observations:</th>      <td> 19402</td>      <th>  AIC:               </th>  <td>2.945e+05</td> \n",
       "</tr>\n",
       "<tr>\n",
       "  <th>Df Residuals:</th>          <td> 19396</td>      <th>  BIC:               </th>  <td>2.946e+05</td> \n",
       "</tr>\n",
       "<tr>\n",
       "  <th>Df Model:</th>              <td>     5</td>      <th>                     </th>      <td> </td>     \n",
       "</tr>\n",
       "<tr>\n",
       "  <th>Covariance Type:</th>      <td>nonrobust</td>    <th>                     </th>      <td> </td>     \n",
       "</tr>\n",
       "</table>\n",
       "<table class=\"simpletable\">\n",
       "<tr>\n",
       "            <td></td>              <th>coef</th>     <th>std err</th>      <th>t</th>      <th>P>|t|</th>  <th>[0.025</th>    <th>0.975]</th>  \n",
       "</tr>\n",
       "<tr>\n",
       "  <th>const</th>                <td> 1.624e+04</td> <td>  289.625</td> <td>   56.082</td> <td> 0.000</td> <td> 1.57e+04</td> <td> 1.68e+04</td>\n",
       "</tr>\n",
       "<tr>\n",
       "  <th>mart_2.price</th>         <td> 2.409e-05</td> <td> 4.04e-07</td> <td>   59.564</td> <td> 0.000</td> <td> 2.33e-05</td> <td> 2.49e-05</td>\n",
       "</tr>\n",
       "<tr>\n",
       "  <th>district_num</th>         <td>    0.9113</td> <td>    0.101</td> <td>    8.990</td> <td> 0.000</td> <td>    0.713</td> <td>    1.110</td>\n",
       "</tr>\n",
       "<tr>\n",
       "  <th>mart_2.rooms</th>         <td> -129.6898</td> <td>    5.169</td> <td>  -25.088</td> <td> 0.000</td> <td> -139.822</td> <td> -119.557</td>\n",
       "</tr>\n",
       "<tr>\n",
       "  <th>mart_2.current_floor</th> <td>   -3.2515</td> <td>    0.589</td> <td>   -5.524</td> <td> 0.000</td> <td>   -4.405</td> <td>   -2.098</td>\n",
       "</tr>\n",
       "<tr>\n",
       "  <th>mart_2.build_year</th>    <td>   -7.6997</td> <td>    0.147</td> <td>  -52.494</td> <td> 0.000</td> <td>   -7.987</td> <td>   -7.412</td>\n",
       "</tr>\n",
       "</table>\n",
       "<table class=\"simpletable\">\n",
       "<tr>\n",
       "  <th>Omnibus:</th>       <td>7030.644</td> <th>  Durbin-Watson:     </th> <td>   1.894</td> \n",
       "</tr>\n",
       "<tr>\n",
       "  <th>Prob(Omnibus):</th>  <td> 0.000</td>  <th>  Jarque-Bera (JB):  </th> <td>30058.487</td>\n",
       "</tr>\n",
       "<tr>\n",
       "  <th>Skew:</th>           <td> 1.752</td>  <th>  Prob(JB):          </th> <td>    0.00</td> \n",
       "</tr>\n",
       "<tr>\n",
       "  <th>Kurtosis:</th>       <td> 7.990</td>  <th>  Cond. No.          </th> <td>1.97e+09</td> \n",
       "</tr>\n",
       "</table><br/><br/>Notes:<br/>[1] Standard Errors assume that the covariance matrix of the errors is correctly specified.<br/>[2] The condition number is large, 1.97e+09. This might indicate that there are<br/>strong multicollinearity or other numerical problems."
      ],
      "text/plain": [
       "<class 'statsmodels.iolib.summary.Summary'>\n",
       "\"\"\"\n",
       "                            OLS Regression Results                            \n",
       "==============================================================================\n",
       "Dep. Variable:           mart_2.total   R-squared:                       0.246\n",
       "Model:                            OLS   Adj. R-squared:                  0.246\n",
       "Method:                 Least Squares   F-statistic:                     1265.\n",
       "Date:                Thu, 20 Apr 2023   Prob (F-statistic):               0.00\n",
       "Time:                        12:53:56   Log-Likelihood:            -1.4726e+05\n",
       "No. Observations:               19402   AIC:                         2.945e+05\n",
       "Df Residuals:                   19396   BIC:                         2.946e+05\n",
       "Df Model:                           5                                         \n",
       "Covariance Type:            nonrobust                                         \n",
       "========================================================================================\n",
       "                           coef    std err          t      P>|t|      [0.025      0.975]\n",
       "----------------------------------------------------------------------------------------\n",
       "const                 1.624e+04    289.625     56.082      0.000    1.57e+04    1.68e+04\n",
       "mart_2.price          2.409e-05   4.04e-07     59.564      0.000    2.33e-05    2.49e-05\n",
       "district_num             0.9113      0.101      8.990      0.000       0.713       1.110\n",
       "mart_2.rooms          -129.6898      5.169    -25.088      0.000    -139.822    -119.557\n",
       "mart_2.current_floor    -3.2515      0.589     -5.524      0.000      -4.405      -2.098\n",
       "mart_2.build_year       -7.6997      0.147    -52.494      0.000      -7.987      -7.412\n",
       "==============================================================================\n",
       "Omnibus:                     7030.644   Durbin-Watson:                   1.894\n",
       "Prob(Omnibus):                  0.000   Jarque-Bera (JB):            30058.487\n",
       "Skew:                           1.752   Prob(JB):                         0.00\n",
       "Kurtosis:                       7.990   Cond. No.                     1.97e+09\n",
       "==============================================================================\n",
       "\n",
       "Notes:\n",
       "[1] Standard Errors assume that the covariance matrix of the errors is correctly specified.\n",
       "[2] The condition number is large, 1.97e+09. This might indicate that there are\n",
       "strong multicollinearity or other numerical problems.\n",
       "\"\"\""
      ]
     },
     "execution_count": 10,
     "metadata": {},
     "output_type": "execute_result"
    }
   ],
   "source": [
    "X = sm.add_constant(X)\n",
    "model = sm.OLS(Y, X).fit()\n",
    "model.summary()"
   ]
  },
  {
   "cell_type": "markdown",
   "id": "d7a738ba-d5c9-4511-9128-1d943d38842f",
   "metadata": {},
   "source": [
    "## **Выводы**\n",
    "Коэффициент атрибута build_year равняется $-7.6997$ и имеет p-value < уровня статистической значимости (0.05), значит мы опровергаем нулевую гипотезу, следовательно между преступностью района и возрастом его зданий есть связь. Более того, исходя из коэффициента регрессии можно сделать вывод о том, что в районах с более высоким уровнем преступности более старые дома"
   ]
  }
 ],
 "metadata": {
  "kernelspec": {
   "display_name": "Python 3 (ipykernel)",
   "language": "python",
   "name": "python3"
  },
  "language_info": {
   "codemirror_mode": {
    "name": "ipython",
    "version": 3
   },
   "file_extension": ".py",
   "mimetype": "text/x-python",
   "name": "python",
   "nbconvert_exporter": "python",
   "pygments_lexer": "ipython3",
   "version": "3.10.6"
  }
 },
 "nbformat": 4,
 "nbformat_minor": 5
}

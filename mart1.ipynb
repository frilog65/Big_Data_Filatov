{
 "cells": [
  {
   "cell_type": "markdown",
   "id": "c6146f94-c994-4792-b30b-302eaf2d9175",
   "metadata": {},
   "source": [
    "## **Гипотеза №1**\n",
    "### $H_{0}$ : Количество ночных клубов и баров рядом с квартирой в радиусе 200 метров не влияет на ее стоимость\n",
    "### $H_{1}$ : Количество ночных клубов и баров рядом с квартирой в радиусе 200 метров влияет на ее стоимость\n",
    "### Уровень статистической значимости = 0.05"
   ]
  },
  {
   "cell_type": "markdown",
   "id": "303be887-18fe-4e25-8eba-25ca6ea22972",
   "metadata": {},
   "source": [
    "## **Импорт библиотек**"
   ]
  },
  {
   "cell_type": "code",
   "execution_count": 1,
   "id": "d437cba6-c08e-4ca0-be94-abfc228e181f",
   "metadata": {
    "tags": []
   },
   "outputs": [],
   "source": [
    "import pandas as pd #библиотека для обработки и анализа данных в виде таблиц\n",
    "import numpy as np #библиотека, добавляющая поддержку больших многомерных массивов и матриц, вместе с большой библиотекой высокоуровневых математических функций для операций с этими массивами\n",
    "\n",
    "#scikit-learn — это библиотека, предназначенная для машинного обучения\n",
    "from sklearn.linear_model import LinearRegression #линейная регрессия\n",
    "from sklearn import preprocessing #предоставляет функции для преобразования данных в более подходящий вид для последующих оценок\n",
    "\n",
    "import statsmodels.api as sm #позволяет исследовать данные, оценивать статистические модели и выполнять статистические тесты\n",
    "import scipy.stats as stats\n",
    "import seaborn as sns #эта библиотека предназначена для создания статистических графиков\n",
    "\n",
    "from pyhive import hive"
   ]
  },
  {
   "cell_type": "markdown",
   "id": "350f7fc6-289f-4de9-87f2-e6548ff17763",
   "metadata": {},
   "source": [
    "## **Подключение к базе данных и импорт данных**"
   ]
  },
  {
   "cell_type": "code",
   "execution_count": 2,
   "id": "7cd802ce-94ad-4b6f-a97d-5b7ca9bdab58",
   "metadata": {
    "tags": []
   },
   "outputs": [
    {
     "name": "stderr",
     "output_type": "stream",
     "text": [
      "/tmp/ipykernel_14317/1774751069.py:5: UserWarning: pandas only supports SQLAlchemy connectable (engine/connection) or database string URI or sqlite3 DBAPI2 connection. Other DBAPI2 objects are not tested. Please consider using SQLAlchemy.\n",
      "  mart1 = pd.read_sql(query, conn)\n"
     ]
    }
   ],
   "source": [
    "#mart1 = pd.read_csv('mart1.csv')\n",
    "conn = hive.Connection(host='localhost', port=10000, database='project')\n",
    "cursor = conn.cursor()\n",
    "query = \"SELECT * FROM mart_1\"\n",
    "mart1 = pd.read_sql(query, conn)"
   ]
  },
  {
   "cell_type": "code",
   "execution_count": 3,
   "id": "c6efe6fd-d239-4b4a-a978-4e096044ad23",
   "metadata": {
    "tags": []
   },
   "outputs": [
    {
     "data": {
      "text/html": [
       "<div>\n",
       "<style scoped>\n",
       "    .dataframe tbody tr th:only-of-type {\n",
       "        vertical-align: middle;\n",
       "    }\n",
       "\n",
       "    .dataframe tbody tr th {\n",
       "        vertical-align: top;\n",
       "    }\n",
       "\n",
       "    .dataframe thead th {\n",
       "        text-align: right;\n",
       "    }\n",
       "</style>\n",
       "<table border=\"1\" class=\"dataframe\">\n",
       "  <thead>\n",
       "    <tr style=\"text-align: right;\">\n",
       "      <th></th>\n",
       "      <th>mart_1.id</th>\n",
       "      <th>mart_1.price</th>\n",
       "      <th>mart_1.district</th>\n",
       "      <th>mart_1.rooms</th>\n",
       "      <th>mart_1.total_area</th>\n",
       "      <th>mart_1.current_floor</th>\n",
       "      <th>mart_1.max_floor</th>\n",
       "      <th>mart_1.build_year</th>\n",
       "      <th>mart_1.bath</th>\n",
       "      <th>mart_1.repair</th>\n",
       "      <th>mart_1.window_type</th>\n",
       "      <th>mart_1.places_total</th>\n",
       "    </tr>\n",
       "  </thead>\n",
       "  <tbody>\n",
       "    <tr>\n",
       "      <th>0</th>\n",
       "      <td>1</td>\n",
       "      <td>6000000</td>\n",
       "      <td>Щербинка</td>\n",
       "      <td>1.0</td>\n",
       "      <td>NaN</td>\n",
       "      <td>3</td>\n",
       "      <td>5</td>\n",
       "      <td>1974.0</td>\n",
       "      <td>1 совмещенный</td>\n",
       "      <td>Косметический</td>\n",
       "      <td>Во двор</td>\n",
       "      <td>0</td>\n",
       "    </tr>\n",
       "    <tr>\n",
       "      <th>1</th>\n",
       "      <td>13</td>\n",
       "      <td>6999990</td>\n",
       "      <td>Коммунарка поселок</td>\n",
       "      <td>NaN</td>\n",
       "      <td>NaN</td>\n",
       "      <td>10</td>\n",
       "      <td>16</td>\n",
       "      <td>2022.0</td>\n",
       "      <td>1 совмещенный</td>\n",
       "      <td>Косметический</td>\n",
       "      <td>Во двор</td>\n",
       "      <td>0</td>\n",
       "    </tr>\n",
       "    <tr>\n",
       "      <th>2</th>\n",
       "      <td>50</td>\n",
       "      <td>3756000</td>\n",
       "      <td>Старое Крюково</td>\n",
       "      <td>NaN</td>\n",
       "      <td>NaN</td>\n",
       "      <td>2</td>\n",
       "      <td>9</td>\n",
       "      <td>NaN</td>\n",
       "      <td>1 совмещенный</td>\n",
       "      <td>Косметический</td>\n",
       "      <td>На улицу и двор</td>\n",
       "      <td>0</td>\n",
       "    </tr>\n",
       "    <tr>\n",
       "      <th>3</th>\n",
       "      <td>65</td>\n",
       "      <td>4300000</td>\n",
       "      <td>Текстильщики</td>\n",
       "      <td>NaN</td>\n",
       "      <td>NaN</td>\n",
       "      <td>1</td>\n",
       "      <td>5</td>\n",
       "      <td>1957.0</td>\n",
       "      <td>1 совмещенный</td>\n",
       "      <td>Косметический</td>\n",
       "      <td>Во двор</td>\n",
       "      <td>0</td>\n",
       "    </tr>\n",
       "    <tr>\n",
       "      <th>4</th>\n",
       "      <td>76</td>\n",
       "      <td>6800000</td>\n",
       "      <td>Очаково-Матвеевское</td>\n",
       "      <td>NaN</td>\n",
       "      <td>NaN</td>\n",
       "      <td>8</td>\n",
       "      <td>9</td>\n",
       "      <td>NaN</td>\n",
       "      <td>1 совмещенный</td>\n",
       "      <td>Евроремонт</td>\n",
       "      <td>На улицу</td>\n",
       "      <td>0</td>\n",
       "    </tr>\n",
       "  </tbody>\n",
       "</table>\n",
       "</div>"
      ],
      "text/plain": [
       "   mart_1.id  mart_1.price      mart_1.district  mart_1.rooms  \\\n",
       "0          1       6000000             Щербинка           1.0   \n",
       "1         13       6999990   Коммунарка поселок           NaN   \n",
       "2         50       3756000       Старое Крюково           NaN   \n",
       "3         65       4300000         Текстильщики           NaN   \n",
       "4         76       6800000  Очаково-Матвеевское           NaN   \n",
       "\n",
       "   mart_1.total_area  mart_1.current_floor  mart_1.max_floor  \\\n",
       "0                NaN                     3                 5   \n",
       "1                NaN                    10                16   \n",
       "2                NaN                     2                 9   \n",
       "3                NaN                     1                 5   \n",
       "4                NaN                     8                 9   \n",
       "\n",
       "   mart_1.build_year    mart_1.bath  mart_1.repair mart_1.window_type  \\\n",
       "0             1974.0  1 совмещенный  Косметический            Во двор   \n",
       "1             2022.0  1 совмещенный  Косметический            Во двор   \n",
       "2                NaN  1 совмещенный  Косметический    На улицу и двор   \n",
       "3             1957.0  1 совмещенный  Косметический            Во двор   \n",
       "4                NaN  1 совмещенный     Евроремонт           На улицу   \n",
       "\n",
       "   mart_1.places_total  \n",
       "0                    0  \n",
       "1                    0  \n",
       "2                    0  \n",
       "3                    0  \n",
       "4                    0  "
      ]
     },
     "execution_count": 3,
     "metadata": {},
     "output_type": "execute_result"
    }
   ],
   "source": [
    "mart1.head()"
   ]
  },
  {
   "cell_type": "markdown",
   "id": "d5cb8e04-f5d8-4dcb-9495-3520d414bdf5",
   "metadata": {},
   "source": [
    "## **Очищение и преобразование данных**"
   ]
  },
  {
   "cell_type": "markdown",
   "id": "89a191e1-d144-43a6-8a82-755b51d4b73e",
   "metadata": {},
   "source": [
    "**Выброс** — это наблюдение, которое лежит аномально далеко от других значений в наборе данных. Выбросы могут быть проблематичными, поскольку они могут повлиять на результаты анализа.\n",
    "Для удаления выбросов будем использовать межквартильный диапазон.\n",
    "\n",
    "**Межквартильный размах (IQR)** — это разница между 75-м процентилем (Q3) и 25-м процентилем (Q1) в наборе данных. Он измеряет разброс средних 50% значений.\n",
    "Можно определить наблюдение как выброс, если оно в 1,5 раза превышает межквартильный размах, превышающий третий квартиль (Q3), или в 1,5 раза превышает межквартильный размах, меньше первого квартиля (Q1).\n",
    "Выбросы = наблюдения > Q3 + 1,5*IQR или Q1 – 1,5*IQR"
   ]
  },
  {
   "cell_type": "code",
   "execution_count": 4,
   "id": "438f1009-a9c0-4614-8533-3e763823cb7b",
   "metadata": {
    "tags": []
   },
   "outputs": [],
   "source": [
    "q3, q1 = np.percentile(mart1['mart_1.price'], [75, 25]) #получаем 75-й и 25-й процентили колонки price\n",
    "IQR = q3 - q1 #рассчитываем межквартильный размах\n",
    "upper_bound = q3 + 1.5 * IQR #получаем высшую границу\n",
    "lower_bound = q1 - 1.5 * IQR #получаем низшую границу\n",
    "\n",
    "mart1 = mart1[(mart1['mart_1.price'] < upper_bound) & (mart1['mart_1.price'] > lower_bound)] #выбираем только те записи, у которых цена находится в пределах границ"
   ]
  },
  {
   "cell_type": "code",
   "execution_count": 5,
   "id": "23160ba3-9038-4a0d-8b68-fbbb85dff609",
   "metadata": {
    "tags": []
   },
   "outputs": [],
   "source": [
    "#линейная регрессия не может работать со строками, их нужно заменить на числовые значения\n",
    "le = preprocessing.LabelEncoder() #(Кодирование меток) - метод, который присваивает каждому уникальному значению категориального признака уникальное целочисленное значение\n",
    "le.fit(mart1['mart_1.district'])\n",
    "mart1['district_num'] = le.transform(mart1['mart_1.district']) #создание нового столбца с замененными строковыми данными на целочисленные"
   ]
  },
  {
   "cell_type": "markdown",
   "id": "a2865325-03cb-4717-b7e0-3eca205d9f9f",
   "metadata": {},
   "source": [
    "Выбираем нужные столбцы и удаляем записи с пропущенными значениями"
   ]
  },
  {
   "cell_type": "code",
   "execution_count": 6,
   "id": "8c7edf52-097a-4be7-90e7-e2774ca07495",
   "metadata": {
    "tags": []
   },
   "outputs": [],
   "source": [
    "model_data = mart1.loc[:, ['mart_1.price', 'district_num', 'mart_1.rooms', 'mart_1.current_floor', 'mart_1.build_year', 'mart_1.places_total']].dropna()"
   ]
  },
  {
   "cell_type": "markdown",
   "id": "5fdc40e6-3f2a-41ae-8bd2-51accb2a485d",
   "metadata": {},
   "source": [
    "## **Регрессионный анализ**"
   ]
  },
  {
   "cell_type": "markdown",
   "id": "7affd6df-4e1b-4c52-9627-96ba9515a7bb",
   "metadata": {},
   "source": [
    "Проверяем данные на мультиколлинеарность, так как для линейной регрессии атрибуты не должны иметь связи"
   ]
  },
  {
   "cell_type": "code",
   "execution_count": 7,
   "id": "88ebc438-aa4f-4089-a36d-c84116a7b310",
   "metadata": {
    "tags": []
   },
   "outputs": [
    {
     "data": {
      "text/plain": [
       "<Axes: >"
      ]
     },
     "execution_count": 7,
     "metadata": {},
     "output_type": "execute_result"
    },
    {
     "data": {
      "image/png": "[encoded data removed]",
      "text/plain": [
       "<Figure size 640x480 with 2 Axes>"
      ]
     },
     "metadata": {},
     "output_type": "display_data"
    }
   ],
   "source": [
    "sns.heatmap(model_data.corr(), annot=True, cmap='coolwarm')"
   ]
  },
  {
   "cell_type": "code",
   "execution_count": 8,
   "id": "9d2d8e2d-c827-4b94-bcc0-2a55eba4af13",
   "metadata": {
    "tags": []
   },
   "outputs": [],
   "source": [
    "X = model_data.loc[:, ['district_num', 'mart_1.rooms', 'mart_1.current_floor', 'mart_1.build_year', 'mart_1.places_total']] #В качестве X выбираем независимые переменные\n",
    "Y = model_data['mart_1.price'] #В качестве Y выбираем зависимую переменную, в нашем случае, цену"
   ]
  },
  {
   "cell_type": "markdown",
   "id": "bfe5f80c-9ba8-429a-b282-10f1b72c7ff6",
   "metadata": {},
   "source": [
    "Проводим регрессионный анализ"
   ]
  },
  {
   "cell_type": "code",
   "execution_count": 12,
   "id": "14aa3070-f903-4613-b796-852c61692f4e",
   "metadata": {
    "tags": []
   },
   "outputs": [
    {
     "data": {
      "text/html": [
       "<table class=\"simpletable\">\n",
       "<caption>OLS Regression Results</caption>\n",
       "<tr>\n",
       "  <th>Dep. Variable:</th>      <td>mart_1.price</td>   <th>  R-squared:         </th> <td>   0.469</td> \n",
       "</tr>\n",
       "<tr>\n",
       "  <th>Model:</th>                   <td>OLS</td>       <th>  Adj. R-squared:    </th> <td>   0.468</td> \n",
       "</tr>\n",
       "<tr>\n",
       "  <th>Method:</th>             <td>Least Squares</td>  <th>  F-statistic:       </th> <td>   405.1</td> \n",
       "</tr>\n",
       "<tr>\n",
       "  <th>Date:</th>             <td>Thu, 20 Apr 2023</td> <th>  Prob (F-statistic):</th> <td>4.41e-312</td>\n",
       "</tr>\n",
       "<tr>\n",
       "  <th>Time:</th>                 <td>13:46:28</td>     <th>  Log-Likelihood:    </th> <td> -39639.</td> \n",
       "</tr>\n",
       "<tr>\n",
       "  <th>No. Observations:</th>      <td>  2302</td>      <th>  AIC:               </th> <td>7.929e+04</td>\n",
       "</tr>\n",
       "<tr>\n",
       "  <th>Df Residuals:</th>          <td>  2296</td>      <th>  BIC:               </th> <td>7.932e+04</td>\n",
       "</tr>\n",
       "<tr>\n",
       "  <th>Df Model:</th>              <td>     5</td>      <th>                     </th>     <td> </td>    \n",
       "</tr>\n",
       "<tr>\n",
       "  <th>Covariance Type:</th>      <td>nonrobust</td>    <th>                     </th>     <td> </td>    \n",
       "</tr>\n",
       "</table>\n",
       "<table class=\"simpletable\">\n",
       "<tr>\n",
       "            <td></td>              <th>coef</th>     <th>std err</th>      <th>t</th>      <th>P>|t|</th>  <th>[0.025</th>    <th>0.975]</th>  \n",
       "</tr>\n",
       "<tr>\n",
       "  <th>const</th>                <td>-5.713e+07</td> <td> 1.25e+07</td> <td>   -4.558</td> <td> 0.000</td> <td>-8.17e+07</td> <td>-3.26e+07</td>\n",
       "</tr>\n",
       "<tr>\n",
       "  <th>district_num</th>         <td> 1.128e+04</td> <td> 3545.784</td> <td>    3.181</td> <td> 0.001</td> <td> 4326.341</td> <td> 1.82e+04</td>\n",
       "</tr>\n",
       "<tr>\n",
       "  <th>mart_1.rooms</th>         <td> 7.391e+06</td> <td> 1.82e+05</td> <td>   40.717</td> <td> 0.000</td> <td> 7.03e+06</td> <td> 7.75e+06</td>\n",
       "</tr>\n",
       "<tr>\n",
       "  <th>mart_1.current_floor</th> <td> 2.325e+05</td> <td> 2.67e+04</td> <td>    8.703</td> <td> 0.000</td> <td>  1.8e+05</td> <td> 2.85e+05</td>\n",
       "</tr>\n",
       "<tr>\n",
       "  <th>mart_1.build_year</th>    <td> 2.803e+04</td> <td> 6330.600</td> <td>    4.428</td> <td> 0.000</td> <td> 1.56e+04</td> <td> 4.04e+04</td>\n",
       "</tr>\n",
       "<tr>\n",
       "  <th>mart_1.places_total</th>  <td> 8.942e+05</td> <td> 8.55e+04</td> <td>   10.457</td> <td> 0.000</td> <td> 7.27e+05</td> <td> 1.06e+06</td>\n",
       "</tr>\n",
       "</table>\n",
       "<table class=\"simpletable\">\n",
       "<tr>\n",
       "  <th>Omnibus:</th>       <td>391.909</td> <th>  Durbin-Watson:     </th> <td>   0.340</td> \n",
       "</tr>\n",
       "<tr>\n",
       "  <th>Prob(Omnibus):</th> <td> 0.000</td>  <th>  Jarque-Bera (JB):  </th> <td> 744.203</td> \n",
       "</tr>\n",
       "<tr>\n",
       "  <th>Skew:</th>          <td> 1.040</td>  <th>  Prob(JB):          </th> <td>2.50e-162</td>\n",
       "</tr>\n",
       "<tr>\n",
       "  <th>Kurtosis:</th>      <td> 4.854</td>  <th>  Cond. No.          </th> <td>1.64e+05</td> \n",
       "</tr>\n",
       "</table><br/><br/>Notes:<br/>[1] Standard Errors assume that the covariance matrix of the errors is correctly specified.<br/>[2] The condition number is large, 1.64e+05. This might indicate that there are<br/>strong multicollinearity or other numerical problems."
      ],
      "text/plain": [
       "<class 'statsmodels.iolib.summary.Summary'>\n",
       "\"\"\"\n",
       "                            OLS Regression Results                            \n",
       "==============================================================================\n",
       "Dep. Variable:           mart_1.price   R-squared:                       0.469\n",
       "Model:                            OLS   Adj. R-squared:                  0.468\n",
       "Method:                 Least Squares   F-statistic:                     405.1\n",
       "Date:                Thu, 20 Apr 2023   Prob (F-statistic):          4.41e-312\n",
       "Time:                        13:46:28   Log-Likelihood:                -39639.\n",
       "No. Observations:                2302   AIC:                         7.929e+04\n",
       "Df Residuals:                    2296   BIC:                         7.932e+04\n",
       "Df Model:                           5                                         \n",
       "Covariance Type:            nonrobust                                         \n",
       "========================================================================================\n",
       "                           coef    std err          t      P>|t|      [0.025      0.975]\n",
       "----------------------------------------------------------------------------------------\n",
       "const                -5.713e+07   1.25e+07     -4.558      0.000   -8.17e+07   -3.26e+07\n",
       "district_num          1.128e+04   3545.784      3.181      0.001    4326.341    1.82e+04\n",
       "mart_1.rooms          7.391e+06   1.82e+05     40.717      0.000    7.03e+06    7.75e+06\n",
       "mart_1.current_floor  2.325e+05   2.67e+04      8.703      0.000     1.8e+05    2.85e+05\n",
       "mart_1.build_year     2.803e+04   6330.600      4.428      0.000    1.56e+04    4.04e+04\n",
       "mart_1.places_total   8.942e+05   8.55e+04     10.457      0.000    7.27e+05    1.06e+06\n",
       "==============================================================================\n",
       "Omnibus:                      391.909   Durbin-Watson:                   0.340\n",
       "Prob(Omnibus):                  0.000   Jarque-Bera (JB):              744.203\n",
       "Skew:                           1.040   Prob(JB):                    2.50e-162\n",
       "Kurtosis:                       4.854   Cond. No.                     1.64e+05\n",
       "==============================================================================\n",
       "\n",
       "Notes:\n",
       "[1] Standard Errors assume that the covariance matrix of the errors is correctly specified.\n",
       "[2] The condition number is large, 1.64e+05. This might indicate that there are\n",
       "strong multicollinearity or other numerical problems.\n",
       "\"\"\""
      ]
     },
     "execution_count": 12,
     "metadata": {},
     "output_type": "execute_result"
    }
   ],
   "source": [
    "X = sm.add_constant(X)\n",
    "model = sm.OLS(Y, X).fit()\n",
    "model.summary()"
   ]
  },
  {
   "cell_type": "markdown",
   "id": "d7a738ba-d5c9-4511-9128-1d943d38842f",
   "metadata": {},
   "source": [
    "## **Выводы**\n",
    "Коэффициент атрибута places_total равняется $8.942 * 10^5$ и имеет p-value < уровня статистической значимости (0.05), значит мы опровергаем нулевую гипотезу, следовательно связь есть. Более того, исходя из коэффициента регресси можно сделать вывод о том, что наличие рядом ночных клубов и баров рядом с квартирой увеличивает ее стоимость."
   ]
  }
 ],
 "metadata": {
  "kernelspec": {
   "display_name": "Python 3 (ipykernel)",
   "language": "python",
   "name": "python3"
  },
  "language_info": {
   "codemirror_mode": {
    "name": "ipython",
    "version": 3
   },
   "file_extension": ".py",
   "mimetype": "text/x-python",
   "name": "python",
   "nbconvert_exporter": "python",
   "pygments_lexer": "ipython3",
   "version": "3.10.6"
  }
 },
 "nbformat": 4,
 "nbformat_minor": 5
}

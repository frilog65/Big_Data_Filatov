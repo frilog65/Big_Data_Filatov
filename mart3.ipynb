{
 "cells": [
  {
   "cell_type": "markdown",
   "id": "9cdc16b1-1793-4b85-a982-1938aef578fb",
   "metadata": {},
   "source": [
    "## **Гипотеза №2**\n",
    "### $H_{0}$ : Средняя цена квартир в зданиях 20 века и в зданиях 21 века не отличается\n",
    "### $H_{1}$ : Средняя цена квартир в зданиях 20 века ниже средней цены квартир в зданиях 21 века\n",
    "### Уровень статистической значимости = 0.05"
   ]
  },
  {
   "cell_type": "markdown",
   "id": "303be887-18fe-4e25-8eba-25ca6ea22972",
   "metadata": {},
   "source": [
    "## **Импорт библиотек**"
   ]
  },
  {
   "cell_type": "code",
   "execution_count": 1,
   "id": "d437cba6-c08e-4ca0-be94-abfc228e181f",
   "metadata": {
    "tags": []
   },
   "outputs": [],
   "source": [
    "import pandas as pd #библиотека для обработки и анализа данных в виде таблиц\n",
    "import numpy as np #библиотека, добавляющая поддержку больших многомерных массивов и матриц, вместе с большой библиотекой высокоуровневых математических функций для операций с этими массивами\n",
    "\n",
    "#scikit-learn — это библиотека, предназначенная для машинного обучения\n",
    "from sklearn.linear_model import LinearRegression #линейная регрессия\n",
    "from sklearn import preprocessing #предоставляет функции для преобразования данных в более подходящий вид для последующих оценок\n",
    "\n",
    "import statsmodels.api as sm #позволяет исследовать данные, оценивать статистические модели и выполнять статистические тесты\n",
    "import scipy.stats as stats\n",
    "import seaborn as sns #эта библиотека предназначена для создания статистических графиков\n",
    "\n",
    "from pyhive import hive"
   ]
  },
  {
   "cell_type": "markdown",
   "id": "350f7fc6-289f-4de9-87f2-e6548ff17763",
   "metadata": {},
   "source": [
    "## **Подключение к базе данных и импорт данных**"
   ]
  },
  {
   "cell_type": "code",
   "execution_count": 2,
   "id": "7cd802ce-94ad-4b6f-a97d-5b7ca9bdab58",
   "metadata": {
    "tags": []
   },
   "outputs": [
    {
     "name": "stderr",
     "output_type": "stream",
     "text": [
      "/tmp/ipykernel_41644/710816630.py:5: UserWarning: pandas only supports SQLAlchemy connectable (engine/connection) or database string URI or sqlite3 DBAPI2 connection. Other DBAPI2 objects are not tested. Please consider using SQLAlchemy.\n",
      "  mart3 = pd.read_sql(query, conn)\n"
     ]
    }
   ],
   "source": [
    "#mart2 = pd.read_csv('mart2.csv')\n",
    "conn = hive.Connection(host='localhost', port=10000, database='project')\n",
    "cursor = conn.cursor()\n",
    "query = \"SELECT * FROM mart_3\"\n",
    "mart3 = pd.read_sql(query, conn)"
   ]
  },
  {
   "cell_type": "code",
   "execution_count": 3,
   "id": "e632b902-f9fa-402d-bcd4-62ffe5a77e66",
   "metadata": {
    "tags": []
   },
   "outputs": [
    {
     "data": {
      "text/html": [
       "<div>\n",
       "<style scoped>\n",
       "    .dataframe tbody tr th:only-of-type {\n",
       "        vertical-align: middle;\n",
       "    }\n",
       "\n",
       "    .dataframe tbody tr th {\n",
       "        vertical-align: top;\n",
       "    }\n",
       "\n",
       "    .dataframe thead th {\n",
       "        text-align: right;\n",
       "    }\n",
       "</style>\n",
       "<table border=\"1\" class=\"dataframe\">\n",
       "  <thead>\n",
       "    <tr style=\"text-align: right;\">\n",
       "      <th></th>\n",
       "      <th>mart_3.id</th>\n",
       "      <th>mart_3.price</th>\n",
       "      <th>mart_3.district</th>\n",
       "      <th>mart_3.rooms</th>\n",
       "      <th>mart_3.total_area</th>\n",
       "      <th>mart_3.current_floor</th>\n",
       "      <th>mart_3.max_floor</th>\n",
       "      <th>mart_3.build_year</th>\n",
       "      <th>mart_3.bath</th>\n",
       "      <th>mart_3.repair</th>\n",
       "      <th>mart_3.window_type</th>\n",
       "    </tr>\n",
       "  </thead>\n",
       "  <tbody>\n",
       "    <tr>\n",
       "      <th>0</th>\n",
       "      <td>0</td>\n",
       "      <td>7700000.0</td>\n",
       "      <td>Коммунарка поселок</td>\n",
       "      <td>NaN</td>\n",
       "      <td>NaN</td>\n",
       "      <td>22.0</td>\n",
       "      <td>27.0</td>\n",
       "      <td>2013.0</td>\n",
       "      <td>1 совмещенный</td>\n",
       "      <td>Косметический</td>\n",
       "      <td>Во двор</td>\n",
       "    </tr>\n",
       "    <tr>\n",
       "      <th>1</th>\n",
       "      <td>1</td>\n",
       "      <td>6000000.0</td>\n",
       "      <td>Щербинка</td>\n",
       "      <td>1.0</td>\n",
       "      <td>NaN</td>\n",
       "      <td>3.0</td>\n",
       "      <td>5.0</td>\n",
       "      <td>1974.0</td>\n",
       "      <td>1 совмещенный</td>\n",
       "      <td>Косметический</td>\n",
       "      <td>Во двор</td>\n",
       "    </tr>\n",
       "    <tr>\n",
       "      <th>2</th>\n",
       "      <td>2</td>\n",
       "      <td>6000000.0</td>\n",
       "      <td>Очаково-Матвеевское</td>\n",
       "      <td>1.0</td>\n",
       "      <td>NaN</td>\n",
       "      <td>6.0</td>\n",
       "      <td>16.0</td>\n",
       "      <td>1976.0</td>\n",
       "      <td>1 раздельный</td>\n",
       "      <td>Косметический</td>\n",
       "      <td>Во двор</td>\n",
       "    </tr>\n",
       "    <tr>\n",
       "      <th>3</th>\n",
       "      <td>3</td>\n",
       "      <td>8200000.0</td>\n",
       "      <td>Сосенское поселение</td>\n",
       "      <td>NaN</td>\n",
       "      <td>NaN</td>\n",
       "      <td>10.0</td>\n",
       "      <td>17.0</td>\n",
       "      <td>2022.0</td>\n",
       "      <td>1 совмещенный</td>\n",
       "      <td>Дизайнерский</td>\n",
       "      <td>Во двор</td>\n",
       "    </tr>\n",
       "    <tr>\n",
       "      <th>4</th>\n",
       "      <td>4</td>\n",
       "      <td>5450000.0</td>\n",
       "      <td>Ясенево</td>\n",
       "      <td>NaN</td>\n",
       "      <td>21.0</td>\n",
       "      <td>1.0</td>\n",
       "      <td>9.0</td>\n",
       "      <td>1976.0</td>\n",
       "      <td>1 совмещенный</td>\n",
       "      <td>Евроремонт</td>\n",
       "      <td>На улицу и двор</td>\n",
       "    </tr>\n",
       "  </tbody>\n",
       "</table>\n",
       "</div>"
      ],
      "text/plain": [
       "   mart_3.id  mart_3.price      mart_3.district  mart_3.rooms  \\\n",
       "0          0     7700000.0   Коммунарка поселок           NaN   \n",
       "1          1     6000000.0             Щербинка           1.0   \n",
       "2          2     6000000.0  Очаково-Матвеевское           1.0   \n",
       "3          3     8200000.0  Сосенское поселение           NaN   \n",
       "4          4     5450000.0              Ясенево           NaN   \n",
       "\n",
       "   mart_3.total_area  mart_3.current_floor  mart_3.max_floor  \\\n",
       "0                NaN                  22.0              27.0   \n",
       "1                NaN                   3.0               5.0   \n",
       "2                NaN                   6.0              16.0   \n",
       "3                NaN                  10.0              17.0   \n",
       "4               21.0                   1.0               9.0   \n",
       "\n",
       "   mart_3.build_year    mart_3.bath  mart_3.repair mart_3.window_type  \n",
       "0             2013.0  1 совмещенный  Косметический            Во двор  \n",
       "1             1974.0  1 совмещенный  Косметический            Во двор  \n",
       "2             1976.0   1 раздельный  Косметический            Во двор  \n",
       "3             2022.0  1 совмещенный   Дизайнерский            Во двор  \n",
       "4             1976.0  1 совмещенный     Евроремонт    На улицу и двор  "
      ]
     },
     "execution_count": 3,
     "metadata": {},
     "output_type": "execute_result"
    }
   ],
   "source": [
    "mart3.head()"
   ]
  },
  {
   "cell_type": "markdown",
   "id": "d5cb8e04-f5d8-4dcb-9495-3520d414bdf5",
   "metadata": {},
   "source": [
    "## **Очищение и преобразование данных**"
   ]
  },
  {
   "cell_type": "markdown",
   "id": "89a191e1-d144-43a6-8a82-755b51d4b73e",
   "metadata": {},
   "source": [
    "**Выброс** — это наблюдение, которое лежит аномально далеко от других значений в наборе данных. Выбросы могут быть проблематичными, поскольку они могут повлиять на результаты анализа.\n",
    "Для удаления выбросов будем использовать межквартильный диапазон.\n",
    "\n",
    "**Межквартильный размах (IQR)** — это разница между 75-м процентилем (Q3) и 25-м процентилем (Q1) в наборе данных. Он измеряет разброс средних 50% значений.\n",
    "Можно определить наблюдение как выброс, если оно в 1,5 раза превышает межквартильный размах, превышающий третий квартиль (Q3), или в 1,5 раза превышает межквартильный размах, меньше первого квартиля (Q1).\n",
    "Выбросы = наблюдения > Q3 + 1,5*IQR или Q1 – 1,5*IQR"
   ]
  },
  {
   "cell_type": "code",
   "execution_count": 4,
   "id": "438f1009-a9c0-4614-8533-3e763823cb7b",
   "metadata": {
    "tags": []
   },
   "outputs": [],
   "source": [
    "mart3.dropna(subset=['mart_3.price'], inplace=True)\n",
    "q3, q1 = np.percentile(mart3['mart_3.price'], [75, 25]) #получаем 75-й и 25-й процентили колонки price\n",
    "IQR = q3 - q1 #рассчитываем межквартильный размах\n",
    "upper_bound = q3 + 1.5 * IQR #получаем высшую границу\n",
    "lower_bound = q1 - 1.5 * IQR #получаем низшую границу\n",
    "\n",
    "mart3 = mart3[(mart3['mart_3.price'] < upper_bound) & (mart3['mart_3.price'] > lower_bound)] #выбираем только те записи, у которых цена находится в пределах границ"
   ]
  },
  {
   "cell_type": "code",
   "execution_count": 5,
   "id": "23160ba3-9038-4a0d-8b68-fbbb85dff609",
   "metadata": {
    "tags": []
   },
   "outputs": [],
   "source": [
    "#линейная регрессия не может работать со строками, их нужно заменить на числовые значения\n",
    "le = preprocessing.LabelEncoder() #(Кодирование меток) - метод, который присваивает каждому уникальному значению категориального признака уникальное целочисленное значение\n",
    "le.fit(mart3['mart_3.district'])\n",
    "mart3['district_num'] = le.transform(mart3['mart_3.district']) #создание нового столбца с замененными строковыми данными на целочисленные"
   ]
  },
  {
   "cell_type": "markdown",
   "id": "a2865325-03cb-4717-b7e0-3eca205d9f9f",
   "metadata": {},
   "source": [
    "Выбираем нужные столбцы и удаляем записи с пропущенными значениями"
   ]
  },
  {
   "cell_type": "code",
   "execution_count": 6,
   "id": "8c7edf52-097a-4be7-90e7-e2774ca07495",
   "metadata": {
    "tags": []
   },
   "outputs": [],
   "source": [
    "model_data = mart3.loc[:, ['mart_3.price', 'district_num', 'mart_3.rooms', 'mart_3.current_floor', 'mart_3.build_year']].dropna()"
   ]
  },
  {
   "cell_type": "markdown",
   "id": "5fdc40e6-3f2a-41ae-8bd2-51accb2a485d",
   "metadata": {
    "tags": []
   },
   "source": [
    "## **Проверка гипотезы о равенстве средних**"
   ]
  },
  {
   "cell_type": "code",
   "execution_count": 7,
   "id": "8b69ee7f-6dfe-48e5-8bc3-9700cda54ff7",
   "metadata": {
    "tags": []
   },
   "outputs": [
    {
     "data": {
      "text/plain": [
       "<Axes: xlabel='mart_3.price', ylabel='Count'>"
      ]
     },
     "execution_count": 7,
     "metadata": {},
     "output_type": "execute_result"
    },
    {
     "data": {
      "image/png": "[encoded data removed]",
      "text/plain": [
       "<Figure size 640x480 with 1 Axes>"
      ]
     },
     "metadata": {},
     "output_type": "display_data"
    }
   ],
   "source": [
    "sns.histplot(data=model_data, x=\"mart_3.price\")"
   ]
  },
  {
   "cell_type": "code",
   "execution_count": 8,
   "id": "f47a27e9-4b01-41b2-b0ae-028fc2aa4066",
   "metadata": {
    "tags": []
   },
   "outputs": [
    {
     "name": "stdout",
     "output_type": "stream",
     "text": [
      "Statistics=0.856, p-value=0.000\n"
     ]
    },
    {
     "name": "stderr",
     "output_type": "stream",
     "text": [
      "/home/dextazzzy/.local/lib/python3.10/site-packages/scipy/stats/_morestats.py:1816: UserWarning: p-value may not be accurate for N > 5000.\n",
      "  warnings.warn(\"p-value may not be accurate for N > 5000.\")\n"
     ]
    }
   ],
   "source": [
    "stat, p = stats.shapiro(model_data['mart_3.price'])\n",
    "print('Statistics=%.3f, p-value=%.3f' % (stat, p))"
   ]
  },
  {
   "cell_type": "markdown",
   "id": "4bbbd621-e797-4f17-9fa1-d5fb80fcd3c7",
   "metadata": {},
   "source": [
    "p-value < уровня статистической значимости (0.05), следовательно данные имеют не нормальное распределение"
   ]
  },
  {
   "cell_type": "code",
   "execution_count": 9,
   "id": "ca133f5d-1f42-474b-8efe-a0bcd51763c8",
   "metadata": {
    "tags": []
   },
   "outputs": [
    {
     "data": {
      "text/plain": [
       "MannwhitneyuResult(statistic=47317377.5, pvalue=0.0)"
      ]
     },
     "execution_count": 9,
     "metadata": {},
     "output_type": "execute_result"
    }
   ],
   "source": [
    "group1 = model_data[(model_data['mart_3.build_year'] >= 1900) & (model_data['mart_3.build_year'] < 2000)]['mart_3.price']\n",
    "group2 = model_data[model_data['mart_3.build_year'] >= 2000]['mart_3.price']\n",
    "stats.mannwhitneyu (group1, group2, alternative='less')"
   ]
  },
  {
   "cell_type": "code",
   "execution_count": 10,
   "id": "71709bb4-e461-4a25-9627-fb91b94028e5",
   "metadata": {
    "tags": []
   },
   "outputs": [
    {
     "data": {
      "text/plain": [
       "16445495.01504391"
      ]
     },
     "execution_count": 10,
     "metadata": {},
     "output_type": "execute_result"
    }
   ],
   "source": [
    "model_data[(model_data['mart_3.build_year'] >= 1900) & (model_data['mart_3.build_year'] < 2000)]['mart_3.price'].mean()"
   ]
  },
  {
   "cell_type": "code",
   "execution_count": 11,
   "id": "13a2e374-0af5-4055-a0aa-d6ee337e5c4c",
   "metadata": {
    "tags": []
   },
   "outputs": [
    {
     "data": {
      "text/plain": [
       "21464235.994789656"
      ]
     },
     "execution_count": 11,
     "metadata": {},
     "output_type": "execute_result"
    }
   ],
   "source": [
    "model_data[model_data['mart_3.build_year'] >= 2000]['mart_3.price'].mean()"
   ]
  },
  {
   "cell_type": "markdown",
   "id": "4be46a68-0d77-4a01-859d-ae771f2185da",
   "metadata": {},
   "source": [
    "## **Выводы**\n",
    "p-value < уровня статистической значимости, значит мы опровергаем нулевую гипотезу, следовательно квартиры в зданиях 20 века дешевле квартир в зданиях 21 века"
   ]
  }
 ],
 "metadata": {
  "kernelspec": {
   "display_name": "Python 3 (ipykernel)",
   "language": "python",
   "name": "python3"
  },
  "language_info": {
   "codemirror_mode": {
    "name": "ipython",
    "version": 3
   },
   "file_extension": ".py",
   "mimetype": "text/x-python",
   "name": "python",
   "nbconvert_exporter": "python",
   "pygments_lexer": "ipython3",
   "version": "3.10.6"
  }
 },
 "nbformat": 4,
 "nbformat_minor": 5
}

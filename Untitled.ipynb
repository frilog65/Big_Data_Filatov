{
 "cells": [
  {
   "cell_type": "code",
   "execution_count": 16,
   "id": "2e3b2fb1-9b5f-45d0-9a66-2a131736ae3f",
   "metadata": {
    "tags": []
   },
   "outputs": [],
   "source": [
    "import pandas as pd\n",
    "import numpy as np\n",
    "import requests"
   ]
  },
  {
   "cell_type": "code",
   "execution_count": 49,
   "id": "29ebcaac-145a-492c-938c-14b0d462498b",
   "metadata": {},
   "outputs": [],
   "source": [
    "data = pd.read_csv('mart2.csv')\n",
    "data.drop(['Unnamed: 0'], axis=1, inplace=True)"
   ]
  },
  {
   "cell_type": "code",
   "execution_count": 55,
   "id": "cacbd062-df39-4f06-8bf7-08c8ae8d7566",
   "metadata": {
    "tags": []
   },
   "outputs": [],
   "source": [
    "aparts = data[['aparts_dds.id', 'aparts_dds.address']].sample(10)\n",
    "mart2 = pd.DataFrame(columns=['id', 'places'])"
   ]
  },
  {
   "cell_type": "code",
   "execution_count": 14,
   "id": "45cd9e8a-616b-4129-8e8e-8034acd45d22",
   "metadata": {
    "tags": []
   },
   "outputs": [
    {
     "name": "stderr",
     "output_type": "stream",
     "text": [
      "/tmp/ipykernel_40772/1319188030.py:1: FutureWarning: The frame.append method is deprecated and will be removed from pandas in a future version. Use pandas.concat instead.\n",
      "  mart2 = mart2.append({'id': 1, 'places': 20}, ignore_index=True)\n"
     ]
    }
   ],
   "source": [
    "mart2 = mart2.append({'id': 1, 'places': 20}, ignore_index=True)"
   ]
  },
  {
   "cell_type": "code",
   "execution_count": 56,
   "id": "0b73b1ff-2699-4daf-862a-b32346c19372",
   "metadata": {
    "tags": []
   },
   "outputs": [],
   "source": [
    "endpoint = \"mapbox.places\"\n",
    "TOKEN_MAPBOX = \"pk.eyJ1IjoiZnJpbG9nIiwiYSI6ImNsZnh6N3VtbTByOW8zZ28wd2xueDdhNzUifQ.kSwmGsjr-gfUM9P9Xoz7rA\"\n",
    "TOKEN_2GIS = \"ruwrej0715\""
   ]
  },
  {
   "cell_type": "code",
   "execution_count": 57,
   "id": "41eeed03-e735-484e-9d3a-2dee0b0a7f02",
   "metadata": {
    "tags": []
   },
   "outputs": [
    {
     "name": "stderr",
     "output_type": "stream",
     "text": [
      "/tmp/ipykernel_40772/4245794965.py:19: FutureWarning: The frame.append method is deprecated and will be removed from pandas in a future version. Use pandas.concat instead.\n",
      "  mart2 = mart2.append({'id': value[0], 'places': places}, ignore_index=True)\n",
      "/tmp/ipykernel_40772/4245794965.py:19: FutureWarning: The frame.append method is deprecated and will be removed from pandas in a future version. Use pandas.concat instead.\n",
      "  mart2 = mart2.append({'id': value[0], 'places': places}, ignore_index=True)\n",
      "/tmp/ipykernel_40772/4245794965.py:19: FutureWarning: The frame.append method is deprecated and will be removed from pandas in a future version. Use pandas.concat instead.\n",
      "  mart2 = mart2.append({'id': value[0], 'places': places}, ignore_index=True)\n",
      "/tmp/ipykernel_40772/4245794965.py:19: FutureWarning: The frame.append method is deprecated and will be removed from pandas in a future version. Use pandas.concat instead.\n",
      "  mart2 = mart2.append({'id': value[0], 'places': places}, ignore_index=True)\n",
      "/tmp/ipykernel_40772/4245794965.py:19: FutureWarning: The frame.append method is deprecated and will be removed from pandas in a future version. Use pandas.concat instead.\n",
      "  mart2 = mart2.append({'id': value[0], 'places': places}, ignore_index=True)\n",
      "/tmp/ipykernel_40772/4245794965.py:19: FutureWarning: The frame.append method is deprecated and will be removed from pandas in a future version. Use pandas.concat instead.\n",
      "  mart2 = mart2.append({'id': value[0], 'places': places}, ignore_index=True)\n",
      "/tmp/ipykernel_40772/4245794965.py:19: FutureWarning: The frame.append method is deprecated and will be removed from pandas in a future version. Use pandas.concat instead.\n",
      "  mart2 = mart2.append({'id': value[0], 'places': places}, ignore_index=True)\n",
      "/tmp/ipykernel_40772/4245794965.py:19: FutureWarning: The frame.append method is deprecated and will be removed from pandas in a future version. Use pandas.concat instead.\n",
      "  mart2 = mart2.append({'id': value[0], 'places': places}, ignore_index=True)\n",
      "/tmp/ipykernel_40772/4245794965.py:19: FutureWarning: The frame.append method is deprecated and will be removed from pandas in a future version. Use pandas.concat instead.\n",
      "  mart2 = mart2.append({'id': value[0], 'places': places}, ignore_index=True)\n",
      "/tmp/ipykernel_40772/4245794965.py:19: FutureWarning: The frame.append method is deprecated and will be removed from pandas in a future version. Use pandas.concat instead.\n",
      "  mart2 = mart2.append({'id': value[0], 'places': places}, ignore_index=True)\n"
     ]
    }
   ],
   "source": [
    "for value in aparts.values:\n",
    "    search_text = str(value[1])\n",
    "    url = f\"https://api.mapbox.com/geocoding/v5/{endpoint}/{search_text}.json?access_token={TOKEN_MAPBOX}\"\n",
    "\n",
    "    response = requests.request(\"GET\", url)\n",
    "    coords = response.json()['features'][0]['center']\n",
    "    coords = ','.join(map(str, coords))\n",
    "    \n",
    "    point = coords\n",
    "    rubrics = \"159,173\" #159 - бары, 173 - ночные клубы\n",
    "    url = f\"https://catalog.api.2gis.com/3.0/items?rubric_id={rubrics}&point={point}&radius=200&key={TOKEN_2GIS}\"\n",
    "\n",
    "    response = requests.request(\"GET\", url)\n",
    "    try:\n",
    "        places = response.json()['result']['total']\n",
    "    except:\n",
    "        places = 0\n",
    "    \n",
    "    mart2 = mart2.append({'id': value[0], 'places': places}, ignore_index=True)\n",
    "\n",
    "    #print(response.json())"
   ]
  },
  {
   "cell_type": "code",
   "execution_count": 58,
   "id": "543a9d6d-5749-48b5-83b7-db7dcf1630d8",
   "metadata": {
    "tags": []
   },
   "outputs": [
    {
     "data": {
      "text/html": [
       "<div>\n",
       "<style scoped>\n",
       "    .dataframe tbody tr th:only-of-type {\n",
       "        vertical-align: middle;\n",
       "    }\n",
       "\n",
       "    .dataframe tbody tr th {\n",
       "        vertical-align: top;\n",
       "    }\n",
       "\n",
       "    .dataframe thead th {\n",
       "        text-align: right;\n",
       "    }\n",
       "</style>\n",
       "<table border=\"1\" class=\"dataframe\">\n",
       "  <thead>\n",
       "    <tr style=\"text-align: right;\">\n",
       "      <th></th>\n",
       "      <th>aparts_dds.id</th>\n",
       "      <th>aparts_dds.address</th>\n",
       "    </tr>\n",
       "  </thead>\n",
       "  <tbody>\n",
       "    <tr>\n",
       "      <th>19322</th>\n",
       "      <td>19322</td>\n",
       "      <td>Москва ЮЗАО р-н Зюзино Чонгарский бул. 23</td>\n",
       "    </tr>\n",
       "    <tr>\n",
       "      <th>24415</th>\n",
       "      <td>24415</td>\n",
       "      <td>Москва САО р-н Сокол ул. Алабяна 3К1</td>\n",
       "    </tr>\n",
       "    <tr>\n",
       "      <th>13975</th>\n",
       "      <td>13975</td>\n",
       "      <td>Москва ЮАО р-н Даниловский просп. Лихачева 12к1</td>\n",
       "    </tr>\n",
       "    <tr>\n",
       "      <th>16188</th>\n",
       "      <td>16188</td>\n",
       "      <td>Москва ЗАО р-н Раменки ул. Лобачевского 120к1</td>\n",
       "    </tr>\n",
       "    <tr>\n",
       "      <th>23930</th>\n",
       "      <td>23930</td>\n",
       "      <td>Москва САО р-н Хорошевский ул. Викторенко 4К1</td>\n",
       "    </tr>\n",
       "    <tr>\n",
       "      <th>1700</th>\n",
       "      <td>1700</td>\n",
       "      <td>Москва ЮАО р-н Чертаново Северное Сумской прое...</td>\n",
       "    </tr>\n",
       "    <tr>\n",
       "      <th>23261</th>\n",
       "      <td>23261</td>\n",
       "      <td>Москва ЦАО р-н Тверской 1-я Тверская-Ямская ул...</td>\n",
       "    </tr>\n",
       "    <tr>\n",
       "      <th>15572</th>\n",
       "      <td>15572</td>\n",
       "      <td>Москва СЗАО р-н Хорошево-Мневники наб. Новиков...</td>\n",
       "    </tr>\n",
       "    <tr>\n",
       "      <th>20538</th>\n",
       "      <td>20538</td>\n",
       "      <td>Москва СВАО р-н Останкинский ул. Академика Кор...</td>\n",
       "    </tr>\n",
       "    <tr>\n",
       "      <th>25978</th>\n",
       "      <td>25978</td>\n",
       "      <td>Москва ЦАО р-н Пресненский Шмитовский проезд 3...</td>\n",
       "    </tr>\n",
       "  </tbody>\n",
       "</table>\n",
       "</div>"
      ],
      "text/plain": [
       "       aparts_dds.id                                 aparts_dds.address\n",
       "19322          19322          Москва ЮЗАО р-н Зюзино Чонгарский бул. 23\n",
       "24415          24415               Москва САО р-н Сокол ул. Алабяна 3К1\n",
       "13975          13975    Москва ЮАО р-н Даниловский просп. Лихачева 12к1\n",
       "16188          16188      Москва ЗАО р-н Раменки ул. Лобачевского 120к1\n",
       "23930          23930      Москва САО р-н Хорошевский ул. Викторенко 4К1\n",
       "1700            1700  Москва ЮАО р-н Чертаново Северное Сумской прое...\n",
       "23261          23261  Москва ЦАО р-н Тверской 1-я Тверская-Ямская ул...\n",
       "15572          15572  Москва СЗАО р-н Хорошево-Мневники наб. Новиков...\n",
       "20538          20538  Москва СВАО р-н Останкинский ул. Академика Кор...\n",
       "25978          25978  Москва ЦАО р-н Пресненский Шмитовский проезд 3..."
      ]
     },
     "execution_count": 58,
     "metadata": {},
     "output_type": "execute_result"
    }
   ],
   "source": [
    "aparts"
   ]
  },
  {
   "cell_type": "code",
   "execution_count": 59,
   "id": "d70a3a36-b9e4-4515-a678-818eeb9edcb0",
   "metadata": {
    "tags": []
   },
   "outputs": [
    {
     "data": {
      "text/html": [
       "<div>\n",
       "<style scoped>\n",
       "    .dataframe tbody tr th:only-of-type {\n",
       "        vertical-align: middle;\n",
       "    }\n",
       "\n",
       "    .dataframe tbody tr th {\n",
       "        vertical-align: top;\n",
       "    }\n",
       "\n",
       "    .dataframe thead th {\n",
       "        text-align: right;\n",
       "    }\n",
       "</style>\n",
       "<table border=\"1\" class=\"dataframe\">\n",
       "  <thead>\n",
       "    <tr style=\"text-align: right;\">\n",
       "      <th></th>\n",
       "      <th>id</th>\n",
       "      <th>places</th>\n",
       "    </tr>\n",
       "  </thead>\n",
       "  <tbody>\n",
       "    <tr>\n",
       "      <th>0</th>\n",
       "      <td>19322</td>\n",
       "      <td>0</td>\n",
       "    </tr>\n",
       "    <tr>\n",
       "      <th>1</th>\n",
       "      <td>24415</td>\n",
       "      <td>0</td>\n",
       "    </tr>\n",
       "    <tr>\n",
       "      <th>2</th>\n",
       "      <td>13975</td>\n",
       "      <td>2</td>\n",
       "    </tr>\n",
       "    <tr>\n",
       "      <th>3</th>\n",
       "      <td>16188</td>\n",
       "      <td>0</td>\n",
       "    </tr>\n",
       "    <tr>\n",
       "      <th>4</th>\n",
       "      <td>23930</td>\n",
       "      <td>1</td>\n",
       "    </tr>\n",
       "    <tr>\n",
       "      <th>5</th>\n",
       "      <td>1700</td>\n",
       "      <td>0</td>\n",
       "    </tr>\n",
       "    <tr>\n",
       "      <th>6</th>\n",
       "      <td>23261</td>\n",
       "      <td>10</td>\n",
       "    </tr>\n",
       "    <tr>\n",
       "      <th>7</th>\n",
       "      <td>15572</td>\n",
       "      <td>0</td>\n",
       "    </tr>\n",
       "    <tr>\n",
       "      <th>8</th>\n",
       "      <td>20538</td>\n",
       "      <td>0</td>\n",
       "    </tr>\n",
       "    <tr>\n",
       "      <th>9</th>\n",
       "      <td>25978</td>\n",
       "      <td>0</td>\n",
       "    </tr>\n",
       "  </tbody>\n",
       "</table>\n",
       "</div>"
      ],
      "text/plain": [
       "      id places\n",
       "0  19322      0\n",
       "1  24415      0\n",
       "2  13975      2\n",
       "3  16188      0\n",
       "4  23930      1\n",
       "5   1700      0\n",
       "6  23261     10\n",
       "7  15572      0\n",
       "8  20538      0\n",
       "9  25978      0"
      ]
     },
     "execution_count": 59,
     "metadata": {},
     "output_type": "execute_result"
    }
   ],
   "source": [
    "mart2"
   ]
  },
  {
   "cell_type": "code",
   "execution_count": null,
   "id": "3edc0ca6-1221-4aa0-9885-7fddbe57d58b",
   "metadata": {},
   "outputs": [],
   "source": []
  }
 ],
 "metadata": {
  "kernelspec": {
   "display_name": "Python 3 (ipykernel)",
   "language": "python",
   "name": "python3"
  },
  "language_info": {
   "codemirror_mode": {
    "name": "ipython",
    "version": 3
   },
   "file_extension": ".py",
   "mimetype": "text/x-python",
   "name": "python",
   "nbconvert_exporter": "python",
   "pygments_lexer": "ipython3",
   "version": "3.10.6"
  }
 },
 "nbformat": 4,
 "nbformat_minor": 5
}
